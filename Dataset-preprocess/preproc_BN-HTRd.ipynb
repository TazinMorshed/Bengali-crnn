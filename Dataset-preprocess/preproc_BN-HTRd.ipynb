{
 "cells": [
  {
   "cell_type": "markdown",
   "metadata": {},
   "source": [
    "### Download the dataset"
   ]
  },
  {
   "cell_type": "code",
   "execution_count": 1,
   "metadata": {},
   "outputs": [
    {
     "name": "stdout",
     "output_type": "stream",
     "text": [
      "--2022-04-14 01:50:15--  https://md-datasets-cache-zipfiles-prod.s3.eu-west-1.amazonaws.com/743k6dm543-1.zip\n",
      "Resolving md-datasets-cache-zipfiles-prod.s3.eu-west-1.amazonaws.com (md-datasets-cache-zipfiles-prod.s3.eu-west-1.amazonaws.com)... 52.218.105.67\n",
      "Connecting to md-datasets-cache-zipfiles-prod.s3.eu-west-1.amazonaws.com (md-datasets-cache-zipfiles-prod.s3.eu-west-1.amazonaws.com)|52.218.105.67|:443... connected.\n",
      "HTTP request sent, awaiting response... 200 OK\n",
      "Length: 1485923301 (1.4G) [application/octet-stream]\n",
      "Saving to: ‘/home/yearat/Documents/Ifrans-499/crnn_pipeline/Bangla_OCR/datasets/BN-HTRd.zip’\n",
      "\n",
      "/home/yearat/Docume 100%[===================>]   1.38G   574KB/s    in 44m 32s \n",
      "\n",
      "2022-04-14 02:34:49 (543 KB/s) - ‘/home/yearat/Documents/Ifrans-499/crnn_pipeline/Bangla_OCR/datasets/BN-HTRd.zip’ saved [1485923301/1485923301]\n",
      "\n"
     ]
    }
   ],
   "source": [
    "!wget -O \"/home/yearat/Documents/Ifrans-499/crnn_pipeline/Bangla_OCR/datasets/BN-HTRd.zip\" \\\n",
    "      https://md-datasets-cache-zipfiles-prod.s3.eu-west-1.amazonaws.com/743k6dm543-1.zip"
   ]
  },
  {
   "cell_type": "markdown",
   "metadata": {},
   "source": [
    "### Unzip the Dataset"
   ]
  },
  {
   "cell_type": "code",
   "execution_count": 2,
   "metadata": {},
   "outputs": [],
   "source": [
    "!unzip -qq \"/home/yearat/Documents/Ifrans-499/crnn_pipeline/Bangla_OCR/datasets/BN-HTRd.zip\" \\\n",
    "       -d \"/home/yearat/Documents/Ifrans-499/crnn_pipeline/Bangla_OCR/datasets/BN-HTRd/\"\n",
    "!unzip -qq \"/home/yearat/Documents/Ifrans-499/crnn_pipeline/Bangla_OCR/datasets/BN-HTRd/Dataset.zip\" \\\n",
    "       -d \"/home/yearat/Documents/Ifrans-499/crnn_pipeline/Bangla_OCR/datasets/BN-HTRd/\""
   ]
  },
  {
   "cell_type": "markdown",
   "metadata": {},
   "source": [
    "### Import Dependencies"
   ]
  },
  {
   "cell_type": "code",
   "execution_count": 6,
   "metadata": {},
   "outputs": [
    {
     "name": "stdout",
     "output_type": "stream",
     "text": [
      "Requirement already satisfied: pylightxl in /home/yearat/miniconda3/envs/pytorch_p39/lib/python3.9/site-packages (1.59)\n"
     ]
    }
   ],
   "source": [
    "import os\n",
    "import glob\n",
    "import re\n",
    "from tqdm import tqdm\n",
    "import pandas as pd\n",
    "import pylightxl as xl\n",
    "from PIL import Image\n",
    "\n",
    "DATA_DIR = \"/home/yearat/Documents/Ifrans-499/crnn_pipeline/Bangla_OCR/datasets/BN-HTRd\""
   ]
  },
  {
   "cell_type": "markdown",
   "metadata": {},
   "source": [
    "### Look for any label and image number mismatch"
   ]
  },
  {
   "cell_type": "code",
   "execution_count": 8,
   "metadata": {},
   "outputs": [
    {
     "name": "stdout",
     "output_type": "stream",
     "text": [
      "Folder | Images | Labels\n"
     ]
    },
    {
     "name": "stderr",
     "output_type": "stream",
     "text": [
      "/home/yearat/miniconda3/envs/pytorch_p39/lib/python3.9/site-packages/openpyxl/worksheet/header_footer.py:48: UserWarning: Cannot parse header or footer so it will be ignored\n",
      "  warn(\"\"\"Cannot parse header or footer so it will be ignored\"\"\")\n"
     ]
    },
    {
     "name": "stdout",
     "output_type": "stream",
     "text": [
      "Writer 101 : 916 919\n",
      "Writer 30 : 1357 1355\n",
      "Writer 114 : 387 386\n",
      "Writer 17 : 793 0\n"
     ]
    }
   ],
   "source": [
    "print(\"Folder | Images | Labels\")\n",
    "\n",
    "subdirs = os.listdir(os.path.join(DATA_DIR, \"Dataset\"))\n",
    "                     \n",
    "for direc in subdirs:\n",
    "    img_files = glob.glob(os.path.join(DATA_DIR, \"Dataset\", direc, \"Words/*/*.[jJ|pP][pP|nN][gG]\"))\n",
    "    annot_file = glob.glob(os.path.join(DATA_DIR, \"Dataset\", direc, \"*.xlsx\"))\n",
    "    \n",
    "    try:\n",
    "        labels_df = pd.read_excel(annot_file[0])\n",
    "    except ValueError:\n",
    "        db = xl.readxl(annot_file[0])\n",
    "        xl.writexl(db=db, fn=\"temp.xlsx\")\n",
    "        labels_df = pd.read_excel(\"temp.xlsx\")\n",
    "        os.remove(\"temp.xlsx\")\n",
    "    \n",
    "    if len(img_files) != len(labels_df):\n",
    "        print(\"Writer\", direc, \":\", len(img_files), len(labels_df))"
   ]
  },
  {
   "cell_type": "markdown",
   "metadata": {},
   "source": [
    "### Create a combined label file that holds all the labels"
   ]
  },
  {
   "cell_type": "code",
   "execution_count": 9,
   "metadata": {},
   "outputs": [
    {
     "name": "stdout",
     "output_type": "stream",
     "text": [
      "Number of files: 150\n"
     ]
    },
    {
     "name": "stderr",
     "output_type": "stream",
     "text": [
      "100%|██████████| 150/150 [00:10<00:00, 14.89it/s]\n"
     ]
    },
    {
     "data": {
      "text/html": [
       "<div>\n",
       "<style scoped>\n",
       "    .dataframe tbody tr th:only-of-type {\n",
       "        vertical-align: middle;\n",
       "    }\n",
       "\n",
       "    .dataframe tbody tr th {\n",
       "        vertical-align: top;\n",
       "    }\n",
       "\n",
       "    .dataframe thead th {\n",
       "        text-align: right;\n",
       "    }\n",
       "</style>\n",
       "<table border=\"1\" class=\"dataframe\">\n",
       "  <thead>\n",
       "    <tr style=\"text-align: right;\">\n",
       "      <th></th>\n",
       "      <th>Path</th>\n",
       "      <th>Word</th>\n",
       "    </tr>\n",
       "    <tr>\n",
       "      <th>id</th>\n",
       "      <th></th>\n",
       "      <th></th>\n",
       "    </tr>\n",
       "  </thead>\n",
       "  <tbody>\n",
       "    <tr>\n",
       "      <th>0</th>\n",
       "      <td>84_1_1_1</td>\n",
       "      <td>করোনাভাইরাস</td>\n",
       "    </tr>\n",
       "    <tr>\n",
       "      <th>1</th>\n",
       "      <td>84_1_1_2</td>\n",
       "      <td>টিপস</td>\n",
       "    </tr>\n",
       "    <tr>\n",
       "      <th>2</th>\n",
       "      <td>84_1_1_3</td>\n",
       "      <td>:</td>\n",
       "    </tr>\n",
       "    <tr>\n",
       "      <th>3</th>\n",
       "      <td>84_1_1_4</td>\n",
       "      <td>যেসব</td>\n",
       "    </tr>\n",
       "    <tr>\n",
       "      <th>4</th>\n",
       "      <td>84_1_1_5</td>\n",
       "      <td>ভুয়া</td>\n",
       "    </tr>\n",
       "    <tr>\n",
       "      <th>...</th>\n",
       "      <td>...</td>\n",
       "      <td>...</td>\n",
       "    </tr>\n",
       "    <tr>\n",
       "      <th>108142</th>\n",
       "      <td>65_3_5_4</td>\n",
       "      <td>বিবিসির</td>\n",
       "    </tr>\n",
       "    <tr>\n",
       "      <th>108143</th>\n",
       "      <td>65_3_5_5</td>\n",
       "      <td>দৃষ্টিভঙ্গি</td>\n",
       "    </tr>\n",
       "    <tr>\n",
       "      <th>108144</th>\n",
       "      <td>65_3_5_6</td>\n",
       "      <td>সম্বন্ধে</td>\n",
       "    </tr>\n",
       "    <tr>\n",
       "      <th>108145</th>\n",
       "      <td>65_3_5_7</td>\n",
       "      <td>পড়ুন</td>\n",
       "    </tr>\n",
       "    <tr>\n",
       "      <th>108146</th>\n",
       "      <td>65_3_5_8</td>\n",
       "      <td>।</td>\n",
       "    </tr>\n",
       "  </tbody>\n",
       "</table>\n",
       "<p>108147 rows × 2 columns</p>\n",
       "</div>"
      ],
      "text/plain": [
       "            Path         Word\n",
       "id                           \n",
       "0       84_1_1_1  করোনাভাইরাস\n",
       "1       84_1_1_2         টিপস\n",
       "2       84_1_1_3            :\n",
       "3       84_1_1_4         যেসব\n",
       "4       84_1_1_5        ভুয়া\n",
       "...          ...          ...\n",
       "108142  65_3_5_4      বিবিসির\n",
       "108143  65_3_5_5  দৃষ্টিভঙ্গি\n",
       "108144  65_3_5_6     সম্বন্ধে\n",
       "108145  65_3_5_7        পড়ুন\n",
       "108146  65_3_5_8            ।\n",
       "\n",
       "[108147 rows x 2 columns]"
      ]
     },
     "execution_count": 9,
     "metadata": {},
     "output_type": "execute_result"
    }
   ],
   "source": [
    "label_files = glob.glob(os.path.join(DATA_DIR, \"Dataset/**/*.xlsx\"), recursive=True)\n",
    "print(\"Number of files: {}\".format(len(label_files)))\n",
    "\n",
    "all_labels_df = pd.DataFrame()\n",
    "\n",
    "for label_file in tqdm(label_files):\n",
    "    # print(label_file)\n",
    "    try:\n",
    "        labels_df = pd.read_excel(label_file)\n",
    "    except ValueError:\n",
    "        \"\"\"\n",
    "        If the file is unreadable due to formatting issues, \n",
    "        clear formatting by reading and re-writing the file using pylightxl\n",
    "        \"\"\"\n",
    "        db = xl.readxl(label_file)\n",
    "        xl.writexl(db=db, fn=\"temp.xlsx\")\n",
    "        labels_df = pd.read_excel(\"temp.xlsx\")\n",
    "        os.remove(\"temp.xlsx\")\n",
    "            \n",
    "    if labels_df.empty:\n",
    "        # If the first sheet is empty, look for a sheet named \"Sheet1\"\n",
    "        labels_df = pd.read_excel(label_file, sheet_name=\"Sheet1\")\n",
    "        \n",
    "    #print(len(labels_df))\n",
    "       \n",
    "    headers = list(labels_df.columns.values)\n",
    "    correct_headers = [\"Path\", \"Word\"] # rename Id to Path\n",
    "    if headers != correct_headers:\n",
    "        # key = old name\n",
    "        # value = new name\n",
    "        rename_dict = dict(zip(headers, correct_headers))\n",
    "        labels_df.rename(columns=rename_dict, inplace=True)\n",
    "        \n",
    "    labels_df = labels_df[labels_df['Path'].notna()] # removes nan values\n",
    "     \n",
    "    \"\"\"\n",
    "    Manual dataset corrections:\n",
    "    Add missing and edit duplicate labels\n",
    "    \"\"\"\n",
    "    curr_dir = label_file.rsplit('/', 1)[-1].split('.')[0]\n",
    "    if curr_dir==\"30\":\n",
    "        # Add missing labels\n",
    "        labels_df.loc[len(labels_df.index)] = ['30_6_2_3 (1)', 'নির্ধারকরা'] \n",
    "        labels_df.loc[len(labels_df.index)] = ['30_6_2_4 (1)', 'বোঝান'] \n",
    "        # Edit duplicate label\n",
    "        labels_df.loc[905] = ['30_6_6_7', 'এশিয়ায়'] \n",
    "        \n",
    "    elif curr_dir==\"114\":\n",
    "        # Edit duplicate label\n",
    "        labels_df.loc[905] = ['30_6_6_7', 'দেখা']\n",
    "        \n",
    "    for idx, row in labels_df.iterrows():\n",
    "#         last_dir = row['Path'].rsplit('_', 2)[0]\n",
    "#         labels_df.loc[idx, 'Path'] = last_dir.split('_', 1)[0] + \"/Word/\" + last_dir + \"/\" + row['Path']\n",
    "#         l = re.split(r\"\\D_\\D_\\D_\\D\", '1_2_3_4f_1')\n",
    "#         print(l)\n",
    "#         labels_df.loc[idx, 'Path'] = row['Path'].rsplit('_', 2)[0]\n",
    "        row['Path'] = row['Path'].strip()\n",
    "    \n",
    "    all_labels_df = all_labels_df.append(labels_df, ignore_index=True)\n",
    "\n",
    "all_labels_df.index.name = 'id'\n",
    "\n",
    "all_labels_df"
   ]
  },
  {
   "cell_type": "markdown",
   "metadata": {},
   "source": [
    "### Remove labels with missing images"
   ]
  },
  {
   "cell_type": "code",
   "execution_count": 10,
   "metadata": {},
   "outputs": [
    {
     "name": "stdout",
     "output_type": "stream",
     "text": [
      "108147\n",
      "108147\n"
     ]
    },
    {
     "name": "stderr",
     "output_type": "stream",
     "text": [
      "100%|██████████| 108147/108147 [00:04<00:00, 24030.53it/s]\n"
     ]
    },
    {
     "data": {
      "text/html": [
       "<div>\n",
       "<style scoped>\n",
       "    .dataframe tbody tr th:only-of-type {\n",
       "        vertical-align: middle;\n",
       "    }\n",
       "\n",
       "    .dataframe tbody tr th {\n",
       "        vertical-align: top;\n",
       "    }\n",
       "\n",
       "    .dataframe thead th {\n",
       "        text-align: right;\n",
       "    }\n",
       "</style>\n",
       "<table border=\"1\" class=\"dataframe\">\n",
       "  <thead>\n",
       "    <tr style=\"text-align: right;\">\n",
       "      <th></th>\n",
       "      <th>Path</th>\n",
       "      <th>Word</th>\n",
       "    </tr>\n",
       "    <tr>\n",
       "      <th>id</th>\n",
       "      <th></th>\n",
       "      <th></th>\n",
       "    </tr>\n",
       "  </thead>\n",
       "  <tbody>\n",
       "    <tr>\n",
       "      <th>0</th>\n",
       "      <td>84_1_1_1</td>\n",
       "      <td>করোনাভাইরাস</td>\n",
       "    </tr>\n",
       "    <tr>\n",
       "      <th>1</th>\n",
       "      <td>84_1_1_2</td>\n",
       "      <td>টিপস</td>\n",
       "    </tr>\n",
       "    <tr>\n",
       "      <th>2</th>\n",
       "      <td>84_1_1_3</td>\n",
       "      <td>:</td>\n",
       "    </tr>\n",
       "    <tr>\n",
       "      <th>3</th>\n",
       "      <td>84_1_1_4</td>\n",
       "      <td>যেসব</td>\n",
       "    </tr>\n",
       "    <tr>\n",
       "      <th>4</th>\n",
       "      <td>84_1_1_5</td>\n",
       "      <td>ভুয়া</td>\n",
       "    </tr>\n",
       "    <tr>\n",
       "      <th>...</th>\n",
       "      <td>...</td>\n",
       "      <td>...</td>\n",
       "    </tr>\n",
       "    <tr>\n",
       "      <th>108142</th>\n",
       "      <td>65_3_5_4</td>\n",
       "      <td>বিবিসির</td>\n",
       "    </tr>\n",
       "    <tr>\n",
       "      <th>108143</th>\n",
       "      <td>65_3_5_5</td>\n",
       "      <td>দৃষ্টিভঙ্গি</td>\n",
       "    </tr>\n",
       "    <tr>\n",
       "      <th>108144</th>\n",
       "      <td>65_3_5_6</td>\n",
       "      <td>সম্বন্ধে</td>\n",
       "    </tr>\n",
       "    <tr>\n",
       "      <th>108145</th>\n",
       "      <td>65_3_5_7</td>\n",
       "      <td>পড়ুন</td>\n",
       "    </tr>\n",
       "    <tr>\n",
       "      <th>108146</th>\n",
       "      <td>65_3_5_8</td>\n",
       "      <td>।</td>\n",
       "    </tr>\n",
       "  </tbody>\n",
       "</table>\n",
       "<p>108061 rows × 2 columns</p>\n",
       "</div>"
      ],
      "text/plain": [
       "            Path         Word\n",
       "id                           \n",
       "0       84_1_1_1  করোনাভাইরাস\n",
       "1       84_1_1_2         টিপস\n",
       "2       84_1_1_3            :\n",
       "3       84_1_1_4         যেসব\n",
       "4       84_1_1_5        ভুয়া\n",
       "...          ...          ...\n",
       "108142  65_3_5_4      বিবিসির\n",
       "108143  65_3_5_5  দৃষ্টিভঙ্গি\n",
       "108144  65_3_5_6     সম্বন্ধে\n",
       "108145  65_3_5_7        পড়ুন\n",
       "108146  65_3_5_8            ।\n",
       "\n",
       "[108061 rows x 2 columns]"
      ]
     },
     "execution_count": 10,
     "metadata": {},
     "output_type": "execute_result"
    }
   ],
   "source": [
    "image_paths = glob.glob(os.path.join(DATA_DIR, \"Dataset\", \"*/Words/*/*.[jJ|pP][pP|nN][gG]\"))\n",
    "print(len(image_paths))\n",
    "name_to_path_dict = {image_path.rsplit('/', 1)[-1].split('.', 1)[0].strip():image_path for image_path in image_paths}\n",
    "\n",
    "print(len(name_to_path_dict))\n",
    "\n",
    "missing_images = []\n",
    "\n",
    "for idx, row in tqdm(all_labels_df.iterrows(), total=len(all_labels_df)):\n",
    "    if row['Path'] not in name_to_path_dict.keys():\n",
    "        all_labels_df.drop(idx, inplace=True)\n",
    "        \n",
    "\n",
    "all_labels_df"
   ]
  },
  {
   "cell_type": "markdown",
   "metadata": {},
   "source": [
    "### Translate Numbers\n",
    "\n",
    "In BN-HTRd bengali numbers are labeled in English. That's why this translation stage is done."
   ]
  },
  {
   "cell_type": "code",
   "execution_count": 11,
   "metadata": {},
   "outputs": [
    {
     "data": {
      "text/html": [
       "<div>\n",
       "<style scoped>\n",
       "    .dataframe tbody tr th:only-of-type {\n",
       "        vertical-align: middle;\n",
       "    }\n",
       "\n",
       "    .dataframe tbody tr th {\n",
       "        vertical-align: top;\n",
       "    }\n",
       "\n",
       "    .dataframe thead th {\n",
       "        text-align: right;\n",
       "    }\n",
       "</style>\n",
       "<table border=\"1\" class=\"dataframe\">\n",
       "  <thead>\n",
       "    <tr style=\"text-align: right;\">\n",
       "      <th></th>\n",
       "      <th>Path</th>\n",
       "      <th>Word</th>\n",
       "    </tr>\n",
       "    <tr>\n",
       "      <th>id</th>\n",
       "      <th></th>\n",
       "      <th></th>\n",
       "    </tr>\n",
       "  </thead>\n",
       "  <tbody>\n",
       "    <tr>\n",
       "      <th>0</th>\n",
       "      <td>84_1_1_1</td>\n",
       "      <td>করোনাভাইরাস</td>\n",
       "    </tr>\n",
       "    <tr>\n",
       "      <th>1</th>\n",
       "      <td>84_1_1_2</td>\n",
       "      <td>টিপস</td>\n",
       "    </tr>\n",
       "    <tr>\n",
       "      <th>2</th>\n",
       "      <td>84_1_1_3</td>\n",
       "      <td>:</td>\n",
       "    </tr>\n",
       "    <tr>\n",
       "      <th>3</th>\n",
       "      <td>84_1_1_4</td>\n",
       "      <td>যেসব</td>\n",
       "    </tr>\n",
       "    <tr>\n",
       "      <th>4</th>\n",
       "      <td>84_1_1_5</td>\n",
       "      <td>ভুয়া</td>\n",
       "    </tr>\n",
       "    <tr>\n",
       "      <th>...</th>\n",
       "      <td>...</td>\n",
       "      <td>...</td>\n",
       "    </tr>\n",
       "    <tr>\n",
       "      <th>108142</th>\n",
       "      <td>65_3_5_4</td>\n",
       "      <td>বিবিসির</td>\n",
       "    </tr>\n",
       "    <tr>\n",
       "      <th>108143</th>\n",
       "      <td>65_3_5_5</td>\n",
       "      <td>দৃষ্টিভঙ্গি</td>\n",
       "    </tr>\n",
       "    <tr>\n",
       "      <th>108144</th>\n",
       "      <td>65_3_5_6</td>\n",
       "      <td>সম্বন্ধে</td>\n",
       "    </tr>\n",
       "    <tr>\n",
       "      <th>108145</th>\n",
       "      <td>65_3_5_7</td>\n",
       "      <td>পড়ুন</td>\n",
       "    </tr>\n",
       "    <tr>\n",
       "      <th>108146</th>\n",
       "      <td>65_3_5_8</td>\n",
       "      <td>।</td>\n",
       "    </tr>\n",
       "  </tbody>\n",
       "</table>\n",
       "<p>108061 rows × 2 columns</p>\n",
       "</div>"
      ],
      "text/plain": [
       "            Path         Word\n",
       "id                           \n",
       "0       84_1_1_1  করোনাভাইরাস\n",
       "1       84_1_1_2         টিপস\n",
       "2       84_1_1_3            :\n",
       "3       84_1_1_4         যেসব\n",
       "4       84_1_1_5        ভুয়া\n",
       "...          ...          ...\n",
       "108142  65_3_5_4      বিবিসির\n",
       "108143  65_3_5_5  দৃষ্টিভঙ্গি\n",
       "108144  65_3_5_6     সম্বন্ধে\n",
       "108145  65_3_5_7        পড়ুন\n",
       "108146  65_3_5_8            ।\n",
       "\n",
       "[108061 rows x 2 columns]"
      ]
     },
     "execution_count": 11,
     "metadata": {},
     "output_type": "execute_result"
    }
   ],
   "source": [
    "def translate_number (word):\n",
    "    \n",
    "    translated = []\n",
    "    \n",
    "    for i, c in enumerate(str(word)):\n",
    "        if c == '0': translated.append('০')\n",
    "        elif c == '1': translated.append('১') \n",
    "        elif c == '2': translated.append('২') \n",
    "        elif c == '3': translated.append('৩') \n",
    "        elif c == '4': translated.append('৪') \n",
    "        elif c == '5': translated.append('৫') \n",
    "        elif c == '6': translated.append('৬') \n",
    "        elif c == '7': translated.append('৭') \n",
    "        elif c == '8': translated.append('৮') \n",
    "        elif c == '9': translated.append('৯')\n",
    "        else: translated.append(c)\n",
    "    \n",
    "    return ''.join(translated)\n",
    "\n",
    "\n",
    "pattern = re.compile(r'[0-9]+')\n",
    "\n",
    "for idx, row in all_labels_df.iterrows():\n",
    "    # print(row['Word'])\n",
    "\n",
    "    if pattern.match(str(row['Word'])) != None:\n",
    "        \n",
    "        # print(\"Word: {} Index: {}\".format(row['Word'], idx))\n",
    "        \n",
    "        # Visualize images\n",
    "        # img_path = name_to_path_dict[row['Path']]\n",
    "        # image = Image.open(img_path)\n",
    "        # display(image)\n",
    "        \n",
    "        row['Word'] = translate_number(row['Word'])\n",
    "\n",
    "all_labels_df"
   ]
  },
  {
   "cell_type": "code",
   "execution_count": 12,
   "metadata": {},
   "outputs": [],
   "source": [
    "all_labels_df.to_csv(os.path.join(DATA_DIR, \"BN-HTRd_all.csv\"))"
   ]
  },
  {
   "cell_type": "markdown",
   "metadata": {},
   "source": [
    "### Create Train, Valid and Test Split"
   ]
  },
  {
   "cell_type": "code",
   "execution_count": 13,
   "metadata": {},
   "outputs": [],
   "source": [
    "all_labels = pd.read_csv(os.path.join(DATA_DIR, \"BN-HTRd_all.csv\"))\n",
    "all_labels = all_labels.sample(frac=1)"
   ]
  },
  {
   "cell_type": "code",
   "execution_count": 14,
   "metadata": {},
   "outputs": [
    {
     "name": "stdout",
     "output_type": "stream",
     "text": [
      "86448\n",
      "10806\n",
      "10807\n"
     ]
    }
   ],
   "source": [
    "train_split = int(0.80 * len(all_labels))\n",
    "train_labels = all_labels.iloc[:train_split]\n",
    "print(len(train_labels))\n",
    "\n",
    "valid_split = train_split + int(0.10 * len(all_labels))\n",
    "valid_labels = all_labels.iloc[train_split:valid_split]\n",
    "print(len(valid_labels))\n",
    "\n",
    "test_labels = all_labels.iloc[valid_split:]\n",
    "print(len(test_labels))"
   ]
  },
  {
   "cell_type": "code",
   "execution_count": 97,
   "metadata": {},
   "outputs": [],
   "source": [
    "train_labels.to_csv(os.path.join(DATA_DIR, \"BN-HTRd_train.csv\"), index=False)\n",
    "valid_labels.to_csv(os.path.join(DATA_DIR, \"BN-HTRd_valid.csv\"), index=False)\n",
    "test_labels.to_csv(os.path.join(DATA_DIR, \"BN-HTRd_test.csv\"), index=False)"
   ]
  },
  {
   "cell_type": "code",
   "execution_count": null,
   "metadata": {},
   "outputs": [],
   "source": []
  }
 ],
 "metadata": {
  "interpreter": {
   "hash": "f664ad45e063355010e74c5d10d4fced84840c73fa86db6422d367282e2df208"
  },
  "kernelspec": {
   "display_name": "Environment (conda_pytorch_p39)",
   "language": "python",
   "name": "python3"
  },
  "language_info": {
   "codemirror_mode": {
    "name": "ipython",
    "version": 3
   },
   "file_extension": ".py",
   "mimetype": "text/x-python",
   "name": "python",
   "nbconvert_exporter": "python",
   "pygments_lexer": "ipython3",
   "version": "3.9.7"
  }
 },
 "nbformat": 4,
 "nbformat_minor": 4
}
