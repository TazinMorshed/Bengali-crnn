{
 "cells": [
  {
   "cell_type": "markdown",
   "metadata": {},
   "source": [
    "### Download the Dataset"
   ]
  },
  {
   "cell_type": "code",
   "execution_count": 3,
   "metadata": {},
   "outputs": [
    {
     "name": "stdout",
     "output_type": "stream",
     "text": [
      "--2022-04-14 01:32:34--  https://md-datasets-cache-zipfiles-prod.s3.eu-west-1.amazonaws.com/r43wkvdk4w-1.zip\n",
      "Resolving md-datasets-cache-zipfiles-prod.s3.eu-west-1.amazonaws.com (md-datasets-cache-zipfiles-prod.s3.eu-west-1.amazonaws.com)... 52.92.0.234\n",
      "Connecting to md-datasets-cache-zipfiles-prod.s3.eu-west-1.amazonaws.com (md-datasets-cache-zipfiles-prod.s3.eu-west-1.amazonaws.com)|52.92.0.234|:443... connected.\n",
      "HTTP request sent, awaiting response... 200 OK\n",
      "Length: 268633599 (256M) [application/octet-stream]\n",
      "Saving to: ‘/home/yearat/Documents/Ifrans-499/crnn_pipeline/Bangla_OCR/bangla_writing_dataset/BanglaWriting.zip’\n",
      "\n",
      "/home/yearat/Docume 100%[===================>] 256.19M  1.28MB/s    in 7m 10s  \n",
      "\n",
      "2022-04-14 01:39:46 (610 KB/s) - ‘/home/yearat/Documents/Ifrans-499/crnn_pipeline/Bangla_OCR/bangla_writing_dataset/BanglaWriting.zip’ saved [268633599/268633599]\n",
      "\n"
     ]
    }
   ],
   "source": [
    "!wget -O \"/home/yearat/Documents/Ifrans-499/crnn_pipeline/Bangla_OCR/bangla_writing_dataset/BanglaWriting.zip\" \\\n",
    "      https://md-datasets-cache-zipfiles-prod.s3.eu-west-1.amazonaws.com/r43wkvdk4w-1.zip"
   ]
  },
  {
   "cell_type": "markdown",
   "metadata": {},
   "source": [
    "### Unzip the Dataset"
   ]
  },
  {
   "cell_type": "code",
   "execution_count": 4,
   "metadata": {},
   "outputs": [],
   "source": [
    "import os\n",
    "\n",
    "!unzip -qq \"/home/yearat/Documents/Ifrans-499/crnn_pipeline/Bangla_OCR/bangla_writing_dataset/BanglaWriting.zip\" -d \"/home/yearat/Documents/Ifrans-499/crnn_pipeline/Bangla_OCR/bangla_writing_dataset/\"\n",
    "!unzip -qq \"/home/yearat/Documents/Ifrans-499/crnn_pipeline/Bangla_OCR/bangla_writing_dataset/converted.zip\" -d \"/home/yearat/Documents/Ifrans-499/crnn_pipeline/Bangla_OCR/bangla_writing_dataset/BanglaWriting/\"\n",
    "!unzip -qq \"/home/yearat/Documents/Ifrans-499/crnn_pipeline/Bangla_OCR/bangla_writing_dataset/raw.zip\" -d \"/home/yearat/Documents/Ifrans-499/crnn_pipeline/Bangla_OCR/bangla_writing_dataset/BanglaWriting/\"\n",
    "\n",
    "os.remove(\"/home/yearat/Documents/Ifrans-499/crnn_pipeline/Bangla_OCR/bangla_writing_dataset/converted.zip\")\n",
    "os.remove(\"/home/yearat/Documents/Ifrans-499/crnn_pipeline/Bangla_OCR/bangla_writing_dataset/raw.zip\")"
   ]
  },
  {
   "cell_type": "markdown",
   "metadata": {},
   "source": [
    "### Import Dependencies"
   ]
  },
  {
   "cell_type": "code",
   "execution_count": 3,
   "metadata": {},
   "outputs": [],
   "source": [
    "import os\n",
    "import glob\n",
    "import json\n",
    "import random\n",
    "from tqdm import tqdm\n",
    "\n",
    "from PIL import Image\n",
    "import cv2\n",
    "\n",
    "DATA_DIR = \"/home/yearat/Documents/Ifrans-499/crnn_pipeline/Bangla_OCR/datasets/\""
   ]
  },
  {
   "cell_type": "markdown",
   "metadata": {},
   "source": [
    "### Extract Words"
   ]
  },
  {
   "cell_type": "code",
   "execution_count": 4,
   "metadata": {},
   "outputs": [
    {
     "name": "stderr",
     "output_type": "stream",
     "text": [
      "100%|██████████| 520/520 [00:31<00:00, 16.76it/s]\n",
      "100%|██████████| 520/520 [00:32<00:00, 16.13it/s]\n"
     ]
    }
   ],
   "source": [
    "WIDTH = 512\n",
    "HEIGHT = 128\n",
    "DIM = (WIDTH, HEIGHT)\n",
    "\n",
    "dataset_path = os.path.join(DATA_DIR, \"BanglaWriting\")\n",
    "extracted_path = os.path.join(DATA_DIR, \"BanglaWriting_words\")\n",
    "\n",
    "try:\n",
    "    # Create  Directory  MyDirectory \n",
    "    os.mkdir(extracted_path)\n",
    "except FileExistsError:\n",
    "    ##print if directory already exists\n",
    "    print(\"Directory already exists.\")\n",
    "\n",
    "for sub_dir in os.listdir(dataset_path):\n",
    "\n",
    "    dataset_sub_dir = os.path.join(dataset_path, sub_dir)\n",
    "\n",
    "    try:\n",
    "        # Create  Directory  MyDirectory \n",
    "        os.mkdir(os.path.join(extracted_path, sub_dir))\n",
    "    except FileExistsError:\n",
    "        ##print if directory already exists\n",
    "        print(\"Directory already exists.\")\n",
    "\n",
    "    word_counter = 0\n",
    "\n",
    "    for filename in tqdm(os.listdir(dataset_sub_dir)):\n",
    "        \n",
    "        if filename.endswith(\".json\"):\n",
    "\n",
    "            json_file = open(os.path.join(dataset_sub_dir, filename), encoding='utf-8')\n",
    "            page = json.load(json_file)\n",
    "\n",
    "            # take the image file name from the json file\n",
    "            # image_path = page[\"imagePath\"]\n",
    "\n",
    "            # if not image_path[0].isdigit():\n",
    "            #     image_path = image_path.rsplit(\"\\\\\", 1)[1]\n",
    "\n",
    "            image_path = filename.replace(\".json\", \".jpg\")\n",
    "            image = cv2.imread(os.path.join(dataset_sub_dir, image_path))\n",
    "            image_path = image_path.replace(\".jpg\", \"\")\n",
    "\n",
    "            # faulty_pages = [\"256_14_1/\", \"25_22_0/\"]\n",
    "            # if image_path in faulty_pages:okb ===============ntinue\n",
    "\n",
    "            # print(\"Extracting from \" + image_path + \" | words in page: \" + str(len(page[\"shapes\"])))\n",
    "\n",
    "            for i in range(len(page[\"shapes\"])):\n",
    "\n",
    "                word_counter += 1\n",
    "\n",
    "                label = page[\"shapes\"][i][\"label\"] # label of the word\n",
    "                # pixel coordinates of the bounding box\n",
    "                xmin, ymin = page[\"shapes\"][i][\"points\"][0]\n",
    "                xmax, ymax = page[\"shapes\"][i][\"points\"][1]\n",
    "\n",
    "                word = image[int(ymin):int(ymax), int(xmin):int(xmax)]\n",
    "\n",
    "                # cv2.imshow(\"example\", word)\n",
    "                # cv2.waitKey(0)\n",
    "                # cv2.destroyAllWindows()\n",
    "                \n",
    "                if word.shape[0] == 0 or word.shape[1] == 0:\n",
    "                    continue\n",
    "                \n",
    "                word_resized = cv2.resize(word, DIM)\n",
    "                file_name = \"{}.jpg\".format(word_counter)\n",
    "                cv2.imwrite(os.path.join(extracted_path, sub_dir, file_name), word_resized)\n",
    "                \n",
    "                with open(os.path.join(extracted_path, \"{}_labels.txt\".format(sub_dir)), \"a\", encoding=\"utf8\") as f:\n",
    "                    f.write(\"{} {}\\n\".format(file_name, label))\n",
    "                    \n"
   ]
  },
  {
   "cell_type": "markdown",
   "metadata": {},
   "source": [
    "### Split Train and Validation Files"
   ]
  },
  {
   "cell_type": "code",
   "execution_count": 5,
   "metadata": {},
   "outputs": [],
   "source": [
    "extracted_path = os.path.join(DATA_DIR, \"BanglaWriting_words\")\n",
    "\n",
    "labels_files = glob.glob(extracted_path + \"/*labels.txt\")\n",
    "\n",
    "for label_file in labels_files:\n",
    "    current_dir = label_file.rsplit('/', 1)[1].split('_', 1)[0]\n",
    "\n",
    "    with open(label_file) as f:\n",
    "        lines = f.readlines()\n",
    "\n",
    "    random.shuffle(lines)\n",
    "\n",
    "    train_split = int(0.90 * len(lines))\n",
    "    valid_split = train_split + int(0.05 * len(lines))\n",
    "\n",
    "    train_data = lines[:train_split]\n",
    "    valid_data = lines[train_split:valid_split]\n",
    "    test_data = lines[valid_split:]\n",
    "\n",
    "    with open(os.path.join(extracted_path, \"{}_labels_train.txt\".format(current_dir)), 'w') as fout:\n",
    "        for line in train_data:\n",
    "            fout.write(line)\n",
    "\n",
    "    with open(os.path.join(extracted_path, \"{}_labels_valid.txt\".format(current_dir)), 'w') as fout:\n",
    "        for line in valid_data:\n",
    "            fout.write(line)\n",
    "\n",
    "    with open(os.path.join(extracted_path, \"{}_labels_test.txt\".format(current_dir)), 'w') as fout:\n",
    "        for line in test_data:\n",
    "            fout.write(line)"
   ]
  },
  {
   "cell_type": "code",
   "execution_count": null,
   "metadata": {},
   "outputs": [],
   "source": []
  }
 ],
 "metadata": {
  "interpreter": {
   "hash": "f664ad45e063355010e74c5d10d4fced84840c73fa86db6422d367282e2df208"
  },
  "kernelspec": {
   "display_name": "Environment (conda_pytorch_p39)",
   "language": "python",
   "name": "python3"
  },
  "language_info": {
   "codemirror_mode": {
    "name": "ipython",
    "version": 3
   },
   "file_extension": ".py",
   "mimetype": "text/x-python",
   "name": "python",
   "nbconvert_exporter": "python",
   "pygments_lexer": "ipython3",
   "version": "3.9.7"
  }
 },
 "nbformat": 4,
 "nbformat_minor": 4
}
